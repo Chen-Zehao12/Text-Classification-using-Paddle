{
 "cells": [
  {
   "cell_type": "code",
   "execution_count": null,
   "id": "6e497677-7bc8-4a76-8a8a-18c589d496bb",
   "metadata": {
    "execution": {
     "iopub.execute_input": "2022-07-25T07:37:45.726159Z",
     "iopub.status.busy": "2022-07-25T07:37:45.725924Z",
     "iopub.status.idle": "2022-07-25T07:37:45.731678Z",
     "shell.execute_reply": "2022-07-25T07:37:45.730854Z",
     "shell.execute_reply.started": "2022-07-25T07:37:45.726135Z"
    },
    "scrolled": true,
    "tags": []
   },
   "outputs": [],
   "source": [
    "# cd to your workstation, if necessary\n",
    "%cd /home/aistudio/work/"
   ]
  },
  {
   "cell_type": "code",
   "execution_count": 2,
   "id": "1626f8ca-576b-4518-bd73-b9959af93139",
   "metadata": {
    "execution": {
     "iopub.execute_input": "2022-07-25T07:37:45.734364Z",
     "iopub.status.busy": "2022-07-25T07:37:45.734016Z",
     "iopub.status.idle": "2022-07-25T07:37:46.985066Z",
     "shell.execute_reply": "2022-07-25T07:37:46.984038Z",
     "shell.execute_reply.started": "2022-07-25T07:37:45.734340Z"
    },
    "scrolled": true,
    "tags": []
   },
   "outputs": [],
   "source": [
    "# 导入所需的第三方库\n",
    "import numpy as np\n",
    "import time\n",
    "import json\n",
    "import paddle\n",
    "import paddle.nn.functional as F"
   ]
  },
  {
   "cell_type": "code",
   "execution_count": null,
   "id": "b20a5408-af62-4c10-a243-c71690ce944b",
   "metadata": {
    "execution": {
     "iopub.execute_input": "2022-07-25T07:37:46.987232Z",
     "iopub.status.busy": "2022-07-25T07:37:46.986401Z",
     "iopub.status.idle": "2022-07-25T07:37:49.170203Z",
     "shell.execute_reply": "2022-07-25T07:37:49.168845Z",
     "shell.execute_reply.started": "2022-07-25T07:37:46.987198Z"
    },
    "scrolled": true
   },
   "outputs": [],
   "source": [
    "!pip install --upgrade paddlenlp==2.1"
   ]
  },
  {
   "cell_type": "code",
   "execution_count": 4,
   "id": "34242600-c16a-4a76-82b3-edae5e4b5829",
   "metadata": {
    "execution": {
     "iopub.execute_input": "2022-07-25T07:37:49.172253Z",
     "iopub.status.busy": "2022-07-25T07:37:49.171623Z",
     "iopub.status.idle": "2022-07-25T07:37:49.532670Z",
     "shell.execute_reply": "2022-07-25T07:37:49.531656Z",
     "shell.execute_reply.started": "2022-07-25T07:37:49.172221Z"
    },
    "scrolled": true
   },
   "outputs": [],
   "source": [
    "# 导入paddlenlp所需的相关包\n",
    "import paddlenlp as ppnlp\n",
    "from paddlenlp.data import Tuple, Pad"
   ]
  },
  {
   "cell_type": "code",
   "execution_count": 5,
   "id": "4543a93c-fd28-4c1d-ad6f-6f8991e3dd36",
   "metadata": {
    "execution": {
     "iopub.execute_input": "2022-07-25T07:37:49.534308Z",
     "iopub.status.busy": "2022-07-25T07:37:49.533787Z",
     "iopub.status.idle": "2022-07-25T07:38:22.133417Z",
     "shell.execute_reply": "2022-07-25T07:38:22.132335Z",
     "shell.execute_reply.started": "2022-07-25T07:37:49.534280Z"
    },
    "scrolled": true
   },
   "outputs": [],
   "source": [
    "# 使用roberta-wwm-ext-large模型\n",
    "# MODEL_NAME = \"roberta-wwm-ext-large\"\n",
    "# 从保存的参数中读取\n",
    "MODEL_NAME = 'test_0.83_finished'\n",
    "# 只需指定想要使用的模型名称和文本分类的类别数即可完成Fine-tune网络定义，通过在预训练模型后拼接上一个全连接网络（Full Connected）进行分类\n",
    "model = ppnlp.transformers.RobertaForSequenceClassification.from_pretrained(MODEL_NAME, num_classes=8) # 此次分类任务为8分类任务，故num_classes设置为8\n",
    "# 定义模型对应的tokenizer，tokenizer可以把原始输入文本转化成模型model可接受的输入数据格式。需注意tokenizer类要与选择的模型相对应，具体可以查看PaddleNLP相关文档\n",
    "tokenizer = ppnlp.transformers.RobertaTokenizer.from_pretrained(MODEL_NAME)"
   ]
  },
  {
   "cell_type": "code",
   "execution_count": 6,
   "id": "d08d65fc-d826-4df4-b628-e23b0a7b02a0",
   "metadata": {
    "execution": {
     "iopub.execute_input": "2022-07-25T07:38:22.135513Z",
     "iopub.status.busy": "2022-07-25T07:38:22.134809Z",
     "iopub.status.idle": "2022-07-25T07:38:22.143140Z",
     "shell.execute_reply": "2022-07-25T07:38:22.142337Z",
     "shell.execute_reply.started": "2022-07-25T07:38:22.135484Z"
    },
    "scrolled": true,
    "tags": []
   },
   "outputs": [],
   "source": [
    "# 定义模型预测函数\n",
    "@paddle.no_grad()\n",
    "def predict(model, data, tokenizer, label_map, batch_size=1):\n",
    "    encoded_inputs = tokenizer(text=data, max_seq_len=256)  # tokenizer处理为模型可接受的格式 \n",
    "    example = (encoded_inputs[\"input_ids\"], encoded_inputs[\"token_type_ids\"])\n",
    "\n",
    "    batchify_fn = lambda samples, fn=Tuple(\n",
    "        Pad(axis=0, pad_val=tokenizer.pad_token_id),  # input id\n",
    "        Pad(axis=0, pad_val=tokenizer.pad_token_id),  # segment id\n",
    "    ): fn(samples)\n",
    "\n",
    "    model.eval()\n",
    "\n",
    "    input_ids, segment_ids = batchify_fn([example])\n",
    "    input_ids = paddle.to_tensor(input_ids)\n",
    "    segment_ids = paddle.to_tensor(segment_ids)\n",
    "    logits = model(input_ids, segment_ids)\n",
    "    probs = F.softmax(logits, axis=1)\n",
    "    idx_top3 = paddle.argsort(probs, axis=1, descending=True).numpy()[0][:3]\n",
    "    idx_top3 = idx_top3.tolist()\n",
    "    labels = [label_map[i] for i in idx_top3]\n",
    "\n",
    "    return labels  # 返回预测结果"
   ]
  },
  {
   "cell_type": "code",
   "execution_count": 7,
   "id": "7c0b1cce-442d-4db4-8a70-d103dbae246e",
   "metadata": {
    "execution": {
     "iopub.execute_input": "2022-07-25T07:38:22.144643Z",
     "iopub.status.busy": "2022-07-25T07:38:22.144282Z",
     "iopub.status.idle": "2022-07-25T07:38:22.149261Z",
     "shell.execute_reply": "2022-07-25T07:38:22.148512Z",
     "shell.execute_reply.started": "2022-07-25T07:38:22.144619Z"
    },
    "scrolled": true,
    "tags": []
   },
   "outputs": [],
   "source": [
    "# 定义要进行分类的类别\n",
    "with open(MODEL_NAME + '/label_map.json') as f:\n",
    "    label_map_str = json.load(f)\n",
    "label_map = {}\n",
    "for k, v in label_map_str.items():\n",
    "    label_map[int(k)] = v"
   ]
  },
  {
   "cell_type": "code",
   "execution_count": 8,
   "id": "5d5f048a-7bb1-45d6-9797-4c1367255daf",
   "metadata": {
    "execution": {
     "iopub.execute_input": "2022-07-25T07:38:22.150466Z",
     "iopub.status.busy": "2022-07-25T07:38:22.150226Z",
     "iopub.status.idle": "2022-07-25T07:38:22.154308Z",
     "shell.execute_reply": "2022-07-25T07:38:22.153434Z",
     "shell.execute_reply.started": "2022-07-25T07:38:22.150444Z"
    },
    "scrolled": true,
    "tags": []
   },
   "outputs": [],
   "source": [
    "# 需要进行预测的文本\n",
    "text = '...'"
   ]
  },
  {
   "cell_type": "code",
   "execution_count": 9,
   "id": "fae5e718-9111-4094-b589-8ddbbfdc1b7f",
   "metadata": {
    "execution": {
     "iopub.execute_input": "2022-07-25T07:38:22.155844Z",
     "iopub.status.busy": "2022-07-25T07:38:22.155303Z",
     "iopub.status.idle": "2022-07-25T07:38:24.120906Z",
     "shell.execute_reply": "2022-07-25T07:38:24.119778Z",
     "shell.execute_reply.started": "2022-07-25T07:38:22.155818Z"
    },
    "scrolled": true,
    "tags": []
   },
   "outputs": [],
   "source": [
    "# 对测试集进行预测\n",
    "result = predict(model, text, tokenizer, label_map)"
   ]
  },
  {
   "cell_type": "code",
   "execution_count": null,
   "id": "592ca878-2987-478d-8d4d-7f0ae7d116b5",
   "metadata": {
    "execution": {
     "iopub.execute_input": "2022-07-25T07:38:24.123063Z",
     "iopub.status.busy": "2022-07-25T07:38:24.122512Z",
     "iopub.status.idle": "2022-07-25T07:38:24.129481Z",
     "shell.execute_reply": "2022-07-25T07:38:24.128417Z",
     "shell.execute_reply.started": "2022-07-25T07:38:24.123029Z"
    },
    "scrolled": true,
    "tags": []
   },
   "outputs": [],
   "source": [
    "print(result)"
   ]
  }
 ],
 "metadata": {
  "kernelspec": {
   "display_name": "Python 3",
   "language": "python",
   "name": "py35-paddle1.2.0"
  },
  "language_info": {
   "codemirror_mode": {
    "name": "ipython",
    "version": 3
   },
   "file_extension": ".py",
   "mimetype": "text/x-python",
   "name": "python",
   "nbconvert_exporter": "python",
   "pygments_lexer": "ipython3",
   "version": "3.7.4"
  }
 },
 "nbformat": 4,
 "nbformat_minor": 5
}
