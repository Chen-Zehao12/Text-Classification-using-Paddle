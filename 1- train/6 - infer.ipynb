{
 "cells": [
  {
   "cell_type": "code",
   "execution_count": 1,
   "id": "d3e1c020-a838-4b50-8e16-0a49de03de8f",
   "metadata": {
    "execution": {
     "iopub.execute_input": "2022-07-25T09:01:35.435290Z",
     "iopub.status.busy": "2022-07-25T09:01:35.434929Z",
     "iopub.status.idle": "2022-07-25T09:01:35.441833Z",
     "shell.execute_reply": "2022-07-25T09:01:35.440848Z",
     "shell.execute_reply.started": "2022-07-25T09:01:35.435254Z"
    },
    "scrolled": true,
    "tags": []
   },
   "outputs": [
    {
     "name": "stdout",
     "output_type": "stream",
     "text": [
      "/home/aistudio/work\n"
     ]
    }
   ],
   "source": [
    "# cd to your workstation, if necessary\n",
    "%cd /home/aistudio/work/"
   ]
  },
  {
   "cell_type": "code",
   "execution_count": null,
   "id": "6219da1f-5b0c-4c46-a357-bb4c7630ba1d",
   "metadata": {
    "execution": {
     "iopub.execute_input": "2022-07-25T09:01:35.446219Z",
     "iopub.status.busy": "2022-07-25T09:01:35.445647Z",
     "iopub.status.idle": "2022-07-25T09:01:37.736437Z",
     "shell.execute_reply": "2022-07-25T09:01:37.735262Z",
     "shell.execute_reply.started": "2022-07-25T09:01:35.446161Z"
    },
    "scrolled": true,
    "tags": []
   },
   "outputs": [],
   "source": [
    "!pip install --upgrade paddlenlp==2.1"
   ]
  },
  {
   "cell_type": "code",
   "execution_count": 3,
   "id": "5141e500-097d-4052-bd4e-1ad2dc70c491",
   "metadata": {
    "execution": {
     "iopub.execute_input": "2022-07-25T09:01:37.739096Z",
     "iopub.status.busy": "2022-07-25T09:01:37.738040Z",
     "iopub.status.idle": "2022-07-25T09:01:39.776318Z",
     "shell.execute_reply": "2022-07-25T09:01:39.775348Z",
     "shell.execute_reply.started": "2022-07-25T09:01:37.739048Z"
    },
    "scrolled": true,
    "tags": []
   },
   "outputs": [],
   "source": [
    "import paddle.inference as paddle_infer\n",
    "import paddle\n",
    "import json\n",
    "import numpy as np\n",
    "import paddlenlp as ppnlp\n",
    "from paddlenlp.data import Tuple, Pad"
   ]
  },
  {
   "cell_type": "code",
   "execution_count": 4,
   "id": "a2b5e43b-f738-4f80-83ac-4ea259019047",
   "metadata": {
    "execution": {
     "iopub.execute_input": "2022-07-25T09:01:39.778138Z",
     "iopub.status.busy": "2022-07-25T09:01:39.777551Z",
     "iopub.status.idle": "2022-07-25T09:01:39.782678Z",
     "shell.execute_reply": "2022-07-25T09:01:39.781955Z",
     "shell.execute_reply.started": "2022-07-25T09:01:39.778108Z"
    },
    "scrolled": true,
    "tags": []
   },
   "outputs": [],
   "source": [
    "model_path = 'test_0.83_finished'\n",
    "# 1. 创建配置对象，设置预测模型路径\n",
    "config = paddle_infer.Config(model_path + \"/infer_model/model.pdmodel\", model_path + \"/infer_model/model.pdiparams\")\n",
    "# 设置开启内存/显存复用\n",
    "config.enable_memory_optim()\n",
    "# 去除 Paddle Inference 运行中的 LOG\n",
    "config.disable_glog_info()\n",
    "# 启用 GPU 进行预测 - 初始化 GPU 显存 100M, Deivce_ID 为 0\n",
    "# config.enable_use_gpu(100, 0)"
   ]
  },
  {
   "cell_type": "code",
   "execution_count": null,
   "id": "a61756b2-a230-4a38-a3ca-cb9098c32541",
   "metadata": {
    "execution": {
     "iopub.execute_input": "2022-07-25T09:01:39.783979Z",
     "iopub.status.busy": "2022-07-25T09:01:39.783647Z",
     "iopub.status.idle": "2022-07-25T09:01:51.331036Z",
     "shell.execute_reply": "2022-07-25T09:01:51.329953Z",
     "shell.execute_reply.started": "2022-07-25T09:01:39.783956Z"
    },
    "scrolled": true,
    "tags": []
   },
   "outputs": [],
   "source": [
    "# 2. 根据配置内容创建推理引擎\n",
    "predictor = paddle_infer.create_predictor(config)"
   ]
  },
  {
   "cell_type": "code",
   "execution_count": 14,
   "id": "393fa1ed-4b6f-4dff-af38-be226ce23f2a",
   "metadata": {
    "execution": {
     "iopub.execute_input": "2022-07-25T09:23:30.273041Z",
     "iopub.status.busy": "2022-07-25T09:23:30.272370Z",
     "iopub.status.idle": "2022-07-25T09:23:30.291454Z",
     "shell.execute_reply": "2022-07-25T09:23:30.290623Z",
     "shell.execute_reply.started": "2022-07-25T09:23:30.273007Z"
    },
    "scrolled": true,
    "tags": []
   },
   "outputs": [],
   "source": [
    "tokenizer = ppnlp.transformers.RobertaTokenizer.from_pretrained(model_path)"
   ]
  },
  {
   "cell_type": "code",
   "execution_count": 15,
   "id": "2227b09f-21ba-4714-8459-37cc1f5ec036",
   "metadata": {
    "execution": {
     "iopub.execute_input": "2022-07-25T09:23:34.500157Z",
     "iopub.status.busy": "2022-07-25T09:23:34.499173Z",
     "iopub.status.idle": "2022-07-25T09:23:34.507479Z",
     "shell.execute_reply": "2022-07-25T09:23:34.506572Z",
     "shell.execute_reply.started": "2022-07-25T09:23:34.500121Z"
    },
    "scrolled": true,
    "tags": []
   },
   "outputs": [],
   "source": [
    "# 3. 设置输入数据\n",
    "# 获取输入数据\n",
    "text = '...'\n",
    "\n",
    "encoded_inputs = tokenizer(text=text, max_seq_len=256)  # tokenizer处理为模型可接受的格式 \n",
    "example = (encoded_inputs[\"input_ids\"], encoded_inputs[\"token_type_ids\"])\n",
    "\n",
    "batchify_fn = lambda samples, fn=Tuple(\n",
    "    Pad(axis=0, pad_val=tokenizer.pad_token_id),  # input id\n",
    "    Pad(axis=0, pad_val=tokenizer.pad_token_id),  # segment id\n",
    "): fn(samples)\n",
    "\n",
    "data = batchify_fn([example])"
   ]
  },
  {
   "cell_type": "code",
   "execution_count": 16,
   "id": "53fbdf1c-9d2a-430d-8335-722fcc679076",
   "metadata": {
    "execution": {
     "iopub.execute_input": "2022-07-25T09:23:36.330558Z",
     "iopub.status.busy": "2022-07-25T09:23:36.329643Z",
     "iopub.status.idle": "2022-07-25T09:23:36.335160Z",
     "shell.execute_reply": "2022-07-25T09:23:36.334254Z",
     "shell.execute_reply.started": "2022-07-25T09:23:36.330504Z"
    },
    "scrolled": true,
    "tags": []
   },
   "outputs": [],
   "source": [
    "# 获取输入句柄\n",
    "input_handles = [\n",
    "            predictor.get_input_handle(name)\n",
    "            for name in predictor.get_input_names()\n",
    "        ]\n",
    "# 设置输入数据\n",
    "for input_field, input_handle in zip(data, input_handles):\n",
    "    input_handle.copy_from_cpu(input_field)"
   ]
  },
  {
   "cell_type": "code",
   "execution_count": null,
   "id": "a078aa5a-1611-4bde-847e-61287b64b9ff",
   "metadata": {
    "execution": {
     "iopub.execute_input": "2022-07-25T09:23:41.661741Z",
     "iopub.status.busy": "2022-07-25T09:23:41.660342Z",
     "iopub.status.idle": "2022-07-25T09:23:43.488050Z",
     "shell.execute_reply": "2022-07-25T09:23:43.487255Z",
     "shell.execute_reply.started": "2022-07-25T09:23:41.661683Z"
    },
    "scrolled": true,
    "tags": []
   },
   "outputs": [],
   "source": [
    "# 4. 执行预测\n",
    "predictor.run()"
   ]
  },
  {
   "cell_type": "code",
   "execution_count": 19,
   "id": "02ce5584-0829-471e-9263-47c534cc9ecd",
   "metadata": {
    "execution": {
     "iopub.execute_input": "2022-07-25T09:23:46.713328Z",
     "iopub.status.busy": "2022-07-25T09:23:46.712395Z",
     "iopub.status.idle": "2022-07-25T09:23:46.717648Z",
     "shell.execute_reply": "2022-07-25T09:23:46.716844Z",
     "shell.execute_reply.started": "2022-07-25T09:23:46.713292Z"
    },
    "scrolled": true,
    "tags": []
   },
   "outputs": [],
   "source": [
    "# 获取输出\n",
    "output_names = predictor.get_output_names()\n",
    "output_handle = predictor.get_output_handle(output_names[0])\n",
    "output_data = output_handle.copy_to_cpu() # numpy.ndarray类型"
   ]
  },
  {
   "cell_type": "code",
   "execution_count": 20,
   "id": "79608d4e-de99-487b-bc9b-7423f3ae3df6",
   "metadata": {
    "execution": {
     "iopub.execute_input": "2022-07-25T09:23:47.821265Z",
     "iopub.status.busy": "2022-07-25T09:23:47.820117Z",
     "iopub.status.idle": "2022-07-25T09:23:47.826371Z",
     "shell.execute_reply": "2022-07-25T09:23:47.825345Z",
     "shell.execute_reply.started": "2022-07-25T09:23:47.821230Z"
    },
    "scrolled": true,
    "tags": []
   },
   "outputs": [],
   "source": [
    "# 定义要进行分类的类别\n",
    "with open(model_path + '/label_map.json') as f:\n",
    "    label_map_str = json.load(f)\n",
    "label_map = {}\n",
    "for k, v in label_map_str.items():\n",
    "    label_map[int(k)] = v"
   ]
  },
  {
   "cell_type": "code",
   "execution_count": null,
   "id": "14097ef0-79ef-4233-af8c-db77a79b40bb",
   "metadata": {
    "execution": {
     "iopub.execute_input": "2022-07-25T09:23:48.892274Z",
     "iopub.status.busy": "2022-07-25T09:23:48.891082Z",
     "iopub.status.idle": "2022-07-25T09:23:48.897604Z",
     "shell.execute_reply": "2022-07-25T09:23:48.896896Z",
     "shell.execute_reply.started": "2022-07-25T09:23:48.892236Z"
    },
    "scrolled": true,
    "tags": []
   },
   "outputs": [],
   "source": [
    "idx_top3 = list(reversed(np.argsort(output_data[0])))[:3]\n",
    "labels = [label_map[i] for i in idx_top3]\n",
    "print(labels)"
   ]
  }
 ],
 "metadata": {
  "kernelspec": {
   "display_name": "Python 3",
   "language": "python",
   "name": "py35-paddle1.2.0"
  },
  "language_info": {
   "codemirror_mode": {
    "name": "ipython",
    "version": 3
   },
   "file_extension": ".py",
   "mimetype": "text/x-python",
   "name": "python",
   "nbconvert_exporter": "python",
   "pygments_lexer": "ipython3",
   "version": "3.7.4"
  }
 },
 "nbformat": 4,
 "nbformat_minor": 5
}
