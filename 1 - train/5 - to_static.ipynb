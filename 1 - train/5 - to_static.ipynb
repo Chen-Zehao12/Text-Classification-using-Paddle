{
 "cells": [
  {
   "cell_type": "code",
   "execution_count": null,
   "id": "6e497677-7bc8-4a76-8a8a-18c589d496bb",
   "metadata": {
    "execution": {
     "iopub.execute_input": "2022-08-01T01:45:44.198248Z",
     "iopub.status.busy": "2022-08-01T01:45:44.197613Z",
     "iopub.status.idle": "2022-08-01T01:45:44.204089Z",
     "shell.execute_reply": "2022-08-01T01:45:44.203300Z",
     "shell.execute_reply.started": "2022-08-01T01:45:44.198205Z"
    },
    "scrolled": true,
    "tags": []
   },
   "outputs": [],
   "source": [
    "# cd to your workstation, if necessary\n",
    "%cd /home/aistudio/work/"
   ]
  },
  {
   "cell_type": "code",
   "execution_count": 2,
   "id": "1626f8ca-576b-4518-bd73-b9959af93139",
   "metadata": {
    "execution": {
     "iopub.execute_input": "2022-08-01T01:45:44.206054Z",
     "iopub.status.busy": "2022-08-01T01:45:44.205551Z",
     "iopub.status.idle": "2022-08-01T01:45:45.913917Z",
     "shell.execute_reply": "2022-08-01T01:45:45.912562Z",
     "shell.execute_reply.started": "2022-08-01T01:45:44.206029Z"
    },
    "scrolled": true,
    "tags": []
   },
   "outputs": [],
   "source": [
    "# 导入所需的第三方库\n",
    "import numpy as np\n",
    "import time\n",
    "import os\n",
    "import paddle\n",
    "import paddle.nn.functional as F"
   ]
  },
  {
   "cell_type": "code",
   "execution_count": null,
   "id": "b20a5408-af62-4c10-a243-c71690ce944b",
   "metadata": {
    "execution": {
     "iopub.execute_input": "2022-08-01T01:45:45.916039Z",
     "iopub.status.busy": "2022-08-01T01:45:45.915376Z",
     "iopub.status.idle": "2022-08-01T01:45:55.879422Z",
     "shell.execute_reply": "2022-08-01T01:45:55.878202Z",
     "shell.execute_reply.started": "2022-08-01T01:45:45.915997Z"
    },
    "scrolled": true
   },
   "outputs": [],
   "source": [
    "!pip install --upgrade paddlenlp==2.1"
   ]
  },
  {
   "cell_type": "code",
   "execution_count": 4,
   "id": "34242600-c16a-4a76-82b3-edae5e4b5829",
   "metadata": {
    "execution": {
     "iopub.execute_input": "2022-08-01T01:45:55.882312Z",
     "iopub.status.busy": "2022-08-01T01:45:55.881698Z",
     "iopub.status.idle": "2022-08-01T01:45:56.255091Z",
     "shell.execute_reply": "2022-08-01T01:45:56.254191Z",
     "shell.execute_reply.started": "2022-08-01T01:45:55.882278Z"
    },
    "scrolled": true
   },
   "outputs": [],
   "source": [
    "# 导入paddlenlp所需的相关包\n",
    "import paddlenlp as ppnlp\n",
    "from paddlenlp.data import Tuple, Pad"
   ]
  },
  {
   "cell_type": "code",
   "execution_count": null,
   "id": "4543a93c-fd28-4c1d-ad6f-6f8991e3dd36",
   "metadata": {
    "execution": {
     "iopub.execute_input": "2022-08-01T01:45:56.256769Z",
     "iopub.status.busy": "2022-08-01T01:45:56.256223Z",
     "iopub.status.idle": "2022-08-01T01:46:05.264592Z",
     "shell.execute_reply": "2022-08-01T01:46:05.263671Z",
     "shell.execute_reply.started": "2022-08-01T01:45:56.256737Z"
    },
    "scrolled": true
   },
   "outputs": [],
   "source": [
    "# 使用roberta-wwm-ext-large模型\n",
    "# MODEL_NAME = \"roberta-wwm-ext-large\"\n",
    "# 从保存的参数中读取\n",
    "MODEL_NAME = 'English_0.82_finished'\n",
    "# 只需指定想要使用的模型名称和文本分类的类别数即可完成Fine-tune网络定义，通过在预训练模型后拼接上一个全连接网络（Full Connected）进行分类\n",
    "model = ppnlp.transformers.ErnieForSequenceClassification.from_pretrained(MODEL_NAME, num_classes=8) # 此次分类任务为8分类任务，故num_classes设置为8\n",
    "# 定义模型对应的tokenizer，tokenizer可以把原始输入文本转化成模型model可接受的输入数据格式。需注意tokenizer类要与选择的模型相对应，具体可以查看PaddleNLP相关文档\n",
    "tokenizer = ppnlp.transformers.ErnieTokenizer.from_pretrained(MODEL_NAME)"
   ]
  },
  {
   "cell_type": "code",
   "execution_count": 6,
   "id": "f53f9cda-a8b0-4ad8-9de8-5ef8f109177e",
   "metadata": {
    "execution": {
     "iopub.execute_input": "2022-08-01T01:46:05.266602Z",
     "iopub.status.busy": "2022-08-01T01:46:05.266032Z",
     "iopub.status.idle": "2022-08-01T01:46:05.275756Z",
     "shell.execute_reply": "2022-08-01T01:46:05.274844Z",
     "shell.execute_reply.started": "2022-08-01T01:46:05.266557Z"
    },
    "scrolled": true,
    "tags": []
   },
   "outputs": [],
   "source": [
    "# 动转静，通过`input_spec`给出模型所需输入数据的描述，shape中的None代表可变的大小，类似上面静态图模式中的`paddle.static.data`\n",
    "model.eval()\n",
    "model = paddle.jit.to_static(\n",
    "        model,\n",
    "        input_spec=[\n",
    "            paddle.static.InputSpec(shape=[None, None],\n",
    "                                    dtype=\"int64\"),  # input_ids\n",
    "            paddle.static.InputSpec(shape=[None, None],\n",
    "                                    dtype=\"int64\")  # segment_ids\n",
    "        ])"
   ]
  },
  {
   "cell_type": "code",
   "execution_count": 7,
   "id": "79f362a2-5b50-4a63-a3d4-8f64f5a705d1",
   "metadata": {
    "execution": {
     "iopub.execute_input": "2022-08-01T01:46:05.277812Z",
     "iopub.status.busy": "2022-08-01T01:46:05.277144Z",
     "iopub.status.idle": "2022-08-01T01:46:33.169415Z",
     "shell.execute_reply": "2022-08-01T01:46:33.168421Z",
     "shell.execute_reply.started": "2022-08-01T01:46:05.277769Z"
    },
    "scrolled": true,
    "tags": []
   },
   "outputs": [],
   "source": [
    "# 保存动转静后的模型，得到 infer_model/model.pdmodel 和 infer_model/model.pdiparams 文件\n",
    "infer_model_save_path = os.path.join(MODEL_NAME, 'infer_model/model')\n",
    "paddle.jit.save(model, infer_model_save_path)"
   ]
  }
 ],
 "metadata": {
  "kernelspec": {
   "display_name": "Python 3",
   "language": "python",
   "name": "py35-paddle1.2.0"
  },
  "language_info": {
   "codemirror_mode": {
    "name": "ipython",
    "version": 3
   },
   "file_extension": ".py",
   "mimetype": "text/x-python",
   "name": "python",
   "nbconvert_exporter": "python",
   "pygments_lexer": "ipython3",
   "version": "3.7.4"
  }
 },
 "nbformat": 4,
 "nbformat_minor": 5
}
